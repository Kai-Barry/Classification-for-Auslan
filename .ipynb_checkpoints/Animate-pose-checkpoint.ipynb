{
 "cells": [
  {
   "cell_type": "markdown",
   "metadata": {},
   "source": [
    "# Animate the coordinates\n",
    "\n",
    "### from https://matplotlib.org/2.1.2/gallery/animation/simple_3danim.html"
   ]
  },
  {
   "cell_type": "code",
   "execution_count": 1,
   "metadata": {},
   "outputs": [],
   "source": [
    "import mediapipe as mp\n",
    "import os\n",
    "import cv2\n",
    "import numpy as np"
   ]
  },
  {
   "cell_type": "code",
   "execution_count": 2,
   "metadata": {},
   "outputs": [],
   "source": [
    "import numpy as np\n",
    "from matplotlib import pyplot as plt\n",
    "from mpl_toolkits.mplot3d import Axes3D\n",
    "import matplotlib.animation\n",
    "import pandas as pd"
   ]
  },
  {
   "cell_type": "code",
   "execution_count": 11,
   "metadata": {},
   "outputs": [],
   "source": [
    "%matplotlib notebook"
   ]
  },
  {
   "cell_type": "code",
   "execution_count": null,
   "metadata": {},
   "outputs": [],
   "source": [
    "%matplotlib inline"
   ]
  },
  {
   "cell_type": "markdown",
   "metadata": {},
   "source": [
    "## Load in coordinates"
   ]
  },
  {
   "cell_type": "code",
   "execution_count": 5,
   "metadata": {},
   "outputs": [
    {
     "data": {
      "text/plain": [
       "501"
      ]
     },
     "execution_count": 5,
     "metadata": {},
     "output_type": "execute_result"
    }
   ],
   "source": [
    "X = []\n",
    "Y = []\n",
    "title = []\n",
    "coorDataLocation = \"D:/Thesis/ELAR-Data/imputedArrayData/\"\n",
    "dirData = os.listdir(coorDataLocation)\n",
    "for i, data in enumerate(dirData):\n",
    "    if i % 2:\n",
    "        continue\n",
    "    coorLoad = np.loadtxt(coorDataLocation + data)\n",
    "    coorShape= np.loadtxt(coorDataLocation + dirData[i + 1])\n",
    "    try:\n",
    "        coorLoad = coorLoad.reshape(coorLoad.shape[0], coorLoad.shape[1] // int(coorShape[2]), int(coorShape[2]))\n",
    "    except:\n",
    "        print(data, dirData[i + 1], coorLoad.shape, coorShape.shape)\n",
    "    title.append(data)\n",
    "    X.append(coorLoad)\n",
    "    if len(X) > 500: # load in the first 500\n",
    "        break\n",
    "len(X)"
   ]
  },
  {
   "cell_type": "code",
   "execution_count": 6,
   "metadata": {},
   "outputs": [],
   "source": [
    "# initialize Pose estimator\n",
    "mp_drawing = mp.solutions.drawing_utils\n",
    "mp_pose = mp.solutions.pose"
   ]
  },
  {
   "cell_type": "code",
   "execution_count": 7,
   "metadata": {},
   "outputs": [],
   "source": [
    "connections = set(mp_pose.POSE_CONNECTIONS)"
   ]
  },
  {
   "cell_type": "code",
   "execution_count": 10,
   "metadata": {},
   "outputs": [],
   "source": [
    "data = X[5]\n",
    "connect = connections\n",
    "\n",
    "def updateGraph(num):\n",
    "    x = data[num].T[0]\n",
    "    y = data[num].T[1]\n",
    "    z = data[num].T[2]\n",
    "    graph._offsets3d = (x, y, z)\n",
    "    title.set_text('3D Test, time={}'.format(num))\n",
    "    createLines(num)\n",
    "\n",
    "def createLines(num):\n",
    "    numPoints = data[0].shape[0]\n",
    "    for i, (p1, p2) in enumerate(connect):\n",
    "        line = lines[i]\n",
    "        if p1 >= numPoints or p2>= numPoints:\n",
    "            break\n",
    "        line.set_data([[data[num, p1, 0], data[num, p2, 0]], \n",
    "                      [data[num, p1, 1], data[num, p2, 1]]])\n",
    "        line.set_3d_properties([data[num, p1, 2], data[num, p2, 2]])\n",
    "    \n",
    "fig = plt.figure()\n",
    "ax = fig.add_subplot(111, projection='3d')\n",
    "title = ax.set_title('3D Test')\n",
    "ax.view_init(90, -90)\n",
    "\n",
    "x = data[0].T[0]\n",
    "y = data[0].T[1]\n",
    "z = data[0].T[2]\n",
    "graph = ax.scatter(x, y, z)\n",
    "lines = [ax.plot([], [], [])[0] for _ in connect]\n",
    "\n",
    "\n",
    "# dir(lines)\n",
    "ani = matplotlib.animation.FuncAnimation(fig, updateGraph, len(data), \n",
    "                               interval=100, blit=False)\n",
    "\n",
    "plt.show()"
   ]
  },
  {
   "cell_type": "markdown",
   "metadata": {},
   "source": [
    "## Destroy page"
   ]
  },
  {
   "cell_type": "code",
   "execution_count": 28,
   "metadata": {},
   "outputs": [],
   "source": [
    "cv2.destroyAllWindows()"
   ]
  }
 ],
 "metadata": {
  "kernelspec": {
   "display_name": "Python 3 (ipykernel)",
   "language": "python",
   "name": "python3"
  },
  "language_info": {
   "codemirror_mode": {
    "name": "ipython",
    "version": 3
   },
   "file_extension": ".py",
   "mimetype": "text/x-python",
   "name": "python",
   "nbconvert_exporter": "python",
   "pygments_lexer": "ipython3",
   "version": "3.8.17"
  }
 },
 "nbformat": 4,
 "nbformat_minor": 2
}
