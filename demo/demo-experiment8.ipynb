{
 "cells": [
  {
   "cell_type": "code",
   "execution_count": 1,
   "metadata": {},
   "outputs": [],
   "source": [
    "from modules import get_primary_location, get_primary_location_keybinds, get_usability\n",
    "from modules import get_splits, print_data_Frame\n",
    "from moduleExperiment8 import reshape_x, convert_tensor, get_loaders, get_resNet_model, load_model, model_accuracy\n",
    "import matplotlib.pyplot as plt"
   ]
  },
  {
   "cell_type": "markdown",
   "metadata": {},
   "source": [
    "# Experiment 8"
   ]
  },
  {
   "cell_type": "markdown",
   "metadata": {},
   "source": [
    "# Experiment 8 DataCreation\n"
   ]
  },
  {
   "cell_type": "markdown",
   "metadata": {},
   "source": [
    "run demo-experiment8.py"
   ]
  },
  {
   "cell_type": "markdown",
   "metadata": {},
   "source": [
    "# Experiment 8 Model"
   ]
  },
  {
   "cell_type": "code",
   "execution_count": 2,
   "metadata": {},
   "outputs": [],
   "source": [
    "usability = get_usability()\n",
    "pathMovement = get_primary_location()\n",
    "label_keys = get_primary_location_keybinds()"
   ]
  },
  {
   "cell_type": "markdown",
   "metadata": {},
   "source": [
    "### Load in the data"
   ]
  },
  {
   "cell_type": "code",
   "execution_count": 3,
   "metadata": {},
   "outputs": [],
   "source": [
    "X_train, X_test, y_train, y_test = get_splits(8)\n",
    "X_train, X_test = reshape_x(X_train, X_test)\n",
    "X_train_tensor, X_test_tensor, y_train_tensor, y_test_tensor = convert_tensor(X_train, X_test, y_train, y_test)\n",
    "train_loader, test_loader = get_loaders(X_train_tensor, X_test_tensor, y_train_tensor, y_test_tensor)"
   ]
  },
  {
   "cell_type": "code",
   "execution_count": 4,
   "metadata": {},
   "outputs": [],
   "source": [
    "model = get_resNet_model(len(label_keys))\n",
    "load_model(model, 'experiment8/ResNetExperiment6-0-300.pth')"
   ]
  },
  {
   "cell_type": "code",
   "execution_count": 7,
   "metadata": {},
   "outputs": [
    {
     "name": "stdout",
     "output_type": "stream",
     "text": [
      "Accuracy: 19.402985074626866%\n"
     ]
    }
   ],
   "source": [
    "model_accuracy(train_loader, model)"
   ]
  },
  {
   "cell_type": "markdown",
   "metadata": {},
   "source": [
    "# Average time to predict"
   ]
  },
  {
   "cell_type": "code",
   "execution_count": 7,
   "metadata": {},
   "outputs": [
    {
     "ename": "AttributeError",
     "evalue": "'list' object has no attribute 'shape'",
     "output_type": "error",
     "traceback": [
      "\u001b[1;31m---------------------------------------------------------------------------\u001b[0m",
      "\u001b[1;31mAttributeError\u001b[0m                            Traceback (most recent call last)",
      "\u001b[1;32mc:\\Users\\KAI\\OneDrive\\Documents\\2023 Sem 2\\REIT4841\\Demo\\demo-experiment8.ipynb Cell 12\u001b[0m line \u001b[0;36m3\n\u001b[0;32m      <a href='vscode-notebook-cell:/c%3A/Users/KAI/OneDrive/Documents/2023%20Sem%202/REIT4841/Demo/demo-experiment8.ipynb#X14sZmlsZQ%3D%3D?line=0'>1</a>\u001b[0m \u001b[39mimport\u001b[39;00m \u001b[39mtime\u001b[39;00m\n\u001b[0;32m      <a href='vscode-notebook-cell:/c%3A/Users/KAI/OneDrive/Documents/2023%20Sem%202/REIT4841/Demo/demo-experiment8.ipynb#X14sZmlsZQ%3D%3D?line=1'>2</a>\u001b[0m start \u001b[39m=\u001b[39m time\u001b[39m.\u001b[39mtime()\n\u001b[1;32m----> <a href='vscode-notebook-cell:/c%3A/Users/KAI/OneDrive/Documents/2023%20Sem%202/REIT4841/Demo/demo-experiment8.ipynb#X14sZmlsZQ%3D%3D?line=2'>3</a>\u001b[0m \u001b[39mprint\u001b[39m(\u001b[39mnext\u001b[39;49m(\u001b[39miter\u001b[39;49m(test_loader))\u001b[39m.\u001b[39;49mshape)\n\u001b[0;32m      <a href='vscode-notebook-cell:/c%3A/Users/KAI/OneDrive/Documents/2023%20Sem%202/REIT4841/Demo/demo-experiment8.ipynb#X14sZmlsZQ%3D%3D?line=3'>4</a>\u001b[0m model(\u001b[39mnext\u001b[39m(\u001b[39miter\u001b[39m(test_loader)))\n\u001b[0;32m      <a href='vscode-notebook-cell:/c%3A/Users/KAI/OneDrive/Documents/2023%20Sem%202/REIT4841/Demo/demo-experiment8.ipynb#X14sZmlsZQ%3D%3D?line=4'>5</a>\u001b[0m end \u001b[39m=\u001b[39m time\u001b[39m.\u001b[39mtime()\n",
      "\u001b[1;31mAttributeError\u001b[0m: 'list' object has no attribute 'shape'"
     ]
    }
   ],
   "source": [
    "import time\n",
    "start = time.time()\n",
    "model_accuracy(train_loader, model)\n",
    "end = time.time()\n",
    "total_time = (end - start)\n",
    "avg_time = (end - start)/ len(train_loader)\n",
    "print('3D ResNet 18 average taken : ' + \"{:.10f}\".format(avg_time * 1000))"
   ]
  }
 ],
 "metadata": {
  "kernelspec": {
   "display_name": "ml",
   "language": "python",
   "name": "python3"
  },
  "language_info": {
   "codemirror_mode": {
    "name": "ipython",
    "version": 3
   },
   "file_extension": ".py",
   "mimetype": "text/x-python",
   "name": "python",
   "nbconvert_exporter": "python",
   "pygments_lexer": "ipython3",
   "version": "3.8.17"
  }
 },
 "nbformat": 4,
 "nbformat_minor": 2
}
