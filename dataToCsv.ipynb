{
 "cells": [
  {
   "attachments": {},
   "cell_type": "markdown",
   "metadata": {},
   "source": [
    "# Labeled Data CSV Creation"
   ]
  },
  {
   "cell_type": "code",
   "execution_count": 1,
   "metadata": {},
   "outputs": [],
   "source": [
    "import os\n",
    "import cv2\n",
    "import shutil\n",
    "import pandas as pd\n",
    "import numpy as np"
   ]
  },
  {
   "attachments": {},
   "cell_type": "markdown",
   "metadata": {},
   "source": [
    "## Open labels so far"
   ]
  },
  {
   "cell_type": "code",
   "execution_count": 6,
   "metadata": {},
   "outputs": [],
   "source": [
    "saveLocation = \"D:/Thesis/Video-Auslan-sorted\"\n",
    "pathMovement = {}\n",
    "for word in os.listdir(saveLocation):\n",
    "    pathMovement[word] = None"
   ]
  },
  {
   "cell_type": "code",
   "execution_count": 10,
   "metadata": {},
   "outputs": [],
   "source": [
    "saveLocation = \"D:/Thesis/Video-Auslan-sorted\"\n",
    "# on a scale of 1 to 4\n",
    "usability = {}\n",
    "for word in os.listdir(saveLocation):\n",
    "    wordLocation = saveLocation + '/' + word\n",
    "    # Loop through every video\n",
    "    for videoName in os.listdir(wordLocation): \n",
    "        usability[videoName] = None"
   ]
  },
  {
   "cell_type": "code",
   "execution_count": 8,
   "metadata": {},
   "outputs": [],
   "source": [
    "f = open(\"keyBinds.txt\", \"r\")\n",
    "line = f.readline()\n",
    "while (line):\n",
    "    try:\n",
    "        if line.split(\"_|_\")[1] == 'None\\n':\n",
    "            pathMovement[line.split(\"_|_\")[0]] = None\n",
    "        else:\n",
    "            pathMovement[line.split(\"_|_\")[0]] = line.split(\"_|_\")[1]\n",
    "    except:\n",
    "        i = 1\n",
    "    line = f.readline()\n",
    "f.close()"
   ]
  },
  {
   "cell_type": "code",
   "execution_count": 11,
   "metadata": {},
   "outputs": [],
   "source": [
    "f = open(\"useability.txt\", \"r\")\n",
    "line = f.readline()\n",
    "while (line):\n",
    "    try:\n",
    "        if line.split(\"_|_\")[1] == 'None\\n':\n",
    "            usability[line.split(\"_|_\")[0]] = None\n",
    "        else:\n",
    "            usability[line.split(\"_|_\")[0]] = line.split(\"_|_\")[1]\n",
    "    except:\n",
    "        if line != '\\n':\n",
    "            print(line)\n",
    "    line = f.readline()\n",
    "f.close()"
   ]
  },
  {
   "attachments": {},
   "cell_type": "markdown",
   "metadata": {},
   "source": [
    "## Create label to number Converting Dictionary"
   ]
  },
  {
   "cell_type": "code",
   "execution_count": 36,
   "metadata": {},
   "outputs": [
    {
     "data": {
      "text/plain": [
       "{'Up and Down\\n': 0,\n",
       " 'Vertical Circular\\n': 1,\n",
       " 'Back and Forth\\n': 2,\n",
       " 'Sideways\\n': 3,\n",
       " 'Side to Side\\n': 4,\n",
       " 'Away\\n': 5,\n",
       " 'Towards\\n': 6,\n",
       " 'Horizontal Circular\\n': 7,\n",
       " 'Down\\n': 8,\n",
       " 'Unknown\\n': 9,\n",
       " 'Up\\n': 10,\n",
       " None: None,\n",
       " 'Local Movement\\n': 11}"
      ]
     },
     "execution_count": 36,
     "metadata": {},
     "output_type": "execute_result"
    }
   ],
   "source": [
    "# Creating numbering for path movement classification\n",
    "pathMovementClasification = set()\n",
    "for items in pathMovement.items():\n",
    "    pathMovementClasification.add(items[1])\n",
    "pathMovementClasification.remove(None)\n",
    "pathMovementClasification.remove('Local Movement\\n')\n",
    "\n",
    "movementNumber = {}\n",
    "for num, movement in enumerate(pathMovementClasification):\n",
    "    movementNumber[movement] = num\n",
    "movementNumber[None] = None\n",
    "movementNumber['Local Movement\\n'] = 11\n",
    "movementNumber"
   ]
  },
  {
   "attachments": {},
   "cell_type": "markdown",
   "metadata": {},
   "source": [
    "# Video Labeler"
   ]
  },
  {
   "cell_type": "code",
   "execution_count": 46,
   "metadata": {},
   "outputs": [],
   "source": [
    "saveLocation = \"D:/Thesis/Video-Auslan-sorted\"\n",
    "dataFrame = pd.DataFrame\n",
    "videoTitle = []\n",
    "videoLocation = []\n",
    "pathLabel = []\n",
    "pathLabelNum = []\n",
    "for folder in os.listdir(saveLocation):\n",
    "    for video in os.listdir(saveLocation + '/' + folder):\n",
    "        videoTitle.append(video)\n",
    "        videoLocation.append(saveLocation + '/' + folder + '/' + video)\n",
    "        pathLabel.append(pathMovement[folder])\n",
    "        pathLabelNum.append(movementNumber[pathMovement[folder]])\n",
    "dataFrame = pd.DataFrame(np.array([videoTitle, videoLocation, pathLabel, pathLabelNum]).T)\n",
    "dataFrame.to_csv('PathData.csv')"
   ]
  },
  {
   "attachments": {},
   "cell_type": "markdown",
   "metadata": {},
   "source": [
    "### Save Data Frame"
   ]
  },
  {
   "cell_type": "code",
   "execution_count": 45,
   "metadata": {},
   "outputs": [
    {
     "data": {
      "text/html": [
       "<div>\n",
       "<style scoped>\n",
       "    .dataframe tbody tr th:only-of-type {\n",
       "        vertical-align: middle;\n",
       "    }\n",
       "\n",
       "    .dataframe tbody tr th {\n",
       "        vertical-align: top;\n",
       "    }\n",
       "\n",
       "    .dataframe thead th {\n",
       "        text-align: right;\n",
       "    }\n",
       "</style>\n",
       "<table border=\"1\" class=\"dataframe\">\n",
       "  <thead>\n",
       "    <tr style=\"text-align: right;\">\n",
       "      <th></th>\n",
       "      <th>0</th>\n",
       "      <th>1</th>\n",
       "      <th>2</th>\n",
       "      <th>3</th>\n",
       "    </tr>\n",
       "  </thead>\n",
       "  <tbody>\n",
       "    <tr>\n",
       "      <th>0</th>\n",
       "      <td>ABOUT1_BFSA1c2a_1630_1990.mp4</td>\n",
       "      <td>D:/Thesis/Video-Auslan-sorted/ABOUT1/ABOUT1_BF...</td>\n",
       "      <td>Vertical Circular\\n</td>\n",
       "      <td>1</td>\n",
       "    </tr>\n",
       "    <tr>\n",
       "      <th>1</th>\n",
       "      <td>ABOUT1_BRCA1c2a_27365_27645.mp4</td>\n",
       "      <td>D:/Thesis/Video-Auslan-sorted/ABOUT1/ABOUT1_BR...</td>\n",
       "      <td>Vertical Circular\\n</td>\n",
       "      <td>1</td>\n",
       "    </tr>\n",
       "    <tr>\n",
       "      <th>2</th>\n",
       "      <td>ABOUT1_BRCA1c2a_29505_29985.mp4</td>\n",
       "      <td>D:/Thesis/Video-Auslan-sorted/ABOUT1/ABOUT1_BR...</td>\n",
       "      <td>Vertical Circular\\n</td>\n",
       "      <td>1</td>\n",
       "    </tr>\n",
       "    <tr>\n",
       "      <th>3</th>\n",
       "      <td>ABOUT1_SBS1A3c7a_950_1280.mp4</td>\n",
       "      <td>D:/Thesis/Video-Auslan-sorted/ABOUT1/ABOUT1_SB...</td>\n",
       "      <td>Vertical Circular\\n</td>\n",
       "      <td>1</td>\n",
       "    </tr>\n",
       "    <tr>\n",
       "      <th>4</th>\n",
       "      <td>ABOUT2_AAPB2c7a_310_800.mp4</td>\n",
       "      <td>D:/Thesis/Video-Auslan-sorted/ABOUT2/ABOUT2_AA...</td>\n",
       "      <td>Vertical Circular\\n</td>\n",
       "      <td>1</td>\n",
       "    </tr>\n",
       "    <tr>\n",
       "      <th>...</th>\n",
       "      <td>...</td>\n",
       "      <td>...</td>\n",
       "      <td>...</td>\n",
       "      <td>...</td>\n",
       "    </tr>\n",
       "    <tr>\n",
       "      <th>16779</th>\n",
       "      <td>ZOOM-OFF_STBA1c2b_36540_37860.mp4</td>\n",
       "      <td>D:/Thesis/Video-Auslan-sorted/ZOOM-OFF/ZOOM-OF...</td>\n",
       "      <td>None</td>\n",
       "      <td>None</td>\n",
       "    </tr>\n",
       "    <tr>\n",
       "      <th>16780</th>\n",
       "      <td>ZOOM-OFF(7)_AASB2c6iii_31980_32880.mp4</td>\n",
       "      <td>D:/Thesis/Video-Auslan-sorted/ZOOM-OFF(7)/ZOOM...</td>\n",
       "      <td>None</td>\n",
       "      <td>None</td>\n",
       "    </tr>\n",
       "    <tr>\n",
       "      <th>16781</th>\n",
       "      <td>ZOOM-OFF(7)_ARGB2c6iii_41620_42200.mp4</td>\n",
       "      <td>D:/Thesis/Video-Auslan-sorted/ZOOM-OFF(7)/ZOOM...</td>\n",
       "      <td>None</td>\n",
       "      <td>None</td>\n",
       "    </tr>\n",
       "    <tr>\n",
       "      <th>16782</th>\n",
       "      <td>ZOOM-OFF(S)_MCDB2c6iii_41420_42210.mp4</td>\n",
       "      <td>D:/Thesis/Video-Auslan-sorted/ZOOM-OFF(S)/ZOOM...</td>\n",
       "      <td>None</td>\n",
       "      <td>None</td>\n",
       "    </tr>\n",
       "    <tr>\n",
       "      <th>16783</th>\n",
       "      <td>ZOOM-OFF-7_PCNB2c7a_94840_95280.mp4</td>\n",
       "      <td>D:/Thesis/Video-Auslan-sorted/ZOOM-OFF-7/ZOOM-...</td>\n",
       "      <td>None</td>\n",
       "      <td>None</td>\n",
       "    </tr>\n",
       "  </tbody>\n",
       "</table>\n",
       "<p>16784 rows × 4 columns</p>\n",
       "</div>"
      ],
      "text/plain": [
       "                                            0  \\\n",
       "0               ABOUT1_BFSA1c2a_1630_1990.mp4   \n",
       "1             ABOUT1_BRCA1c2a_27365_27645.mp4   \n",
       "2             ABOUT1_BRCA1c2a_29505_29985.mp4   \n",
       "3               ABOUT1_SBS1A3c7a_950_1280.mp4   \n",
       "4                 ABOUT2_AAPB2c7a_310_800.mp4   \n",
       "...                                       ...   \n",
       "16779       ZOOM-OFF_STBA1c2b_36540_37860.mp4   \n",
       "16780  ZOOM-OFF(7)_AASB2c6iii_31980_32880.mp4   \n",
       "16781  ZOOM-OFF(7)_ARGB2c6iii_41620_42200.mp4   \n",
       "16782  ZOOM-OFF(S)_MCDB2c6iii_41420_42210.mp4   \n",
       "16783     ZOOM-OFF-7_PCNB2c7a_94840_95280.mp4   \n",
       "\n",
       "                                                       1                    2  \\\n",
       "0      D:/Thesis/Video-Auslan-sorted/ABOUT1/ABOUT1_BF...  Vertical Circular\\n   \n",
       "1      D:/Thesis/Video-Auslan-sorted/ABOUT1/ABOUT1_BR...  Vertical Circular\\n   \n",
       "2      D:/Thesis/Video-Auslan-sorted/ABOUT1/ABOUT1_BR...  Vertical Circular\\n   \n",
       "3      D:/Thesis/Video-Auslan-sorted/ABOUT1/ABOUT1_SB...  Vertical Circular\\n   \n",
       "4      D:/Thesis/Video-Auslan-sorted/ABOUT2/ABOUT2_AA...  Vertical Circular\\n   \n",
       "...                                                  ...                  ...   \n",
       "16779  D:/Thesis/Video-Auslan-sorted/ZOOM-OFF/ZOOM-OF...                 None   \n",
       "16780  D:/Thesis/Video-Auslan-sorted/ZOOM-OFF(7)/ZOOM...                 None   \n",
       "16781  D:/Thesis/Video-Auslan-sorted/ZOOM-OFF(7)/ZOOM...                 None   \n",
       "16782  D:/Thesis/Video-Auslan-sorted/ZOOM-OFF(S)/ZOOM...                 None   \n",
       "16783  D:/Thesis/Video-Auslan-sorted/ZOOM-OFF-7/ZOOM-...                 None   \n",
       "\n",
       "          3  \n",
       "0         1  \n",
       "1         1  \n",
       "2         1  \n",
       "3         1  \n",
       "4         1  \n",
       "...     ...  \n",
       "16779  None  \n",
       "16780  None  \n",
       "16781  None  \n",
       "16782  None  \n",
       "16783  None  \n",
       "\n",
       "[16784 rows x 4 columns]"
      ]
     },
     "execution_count": 45,
     "metadata": {},
     "output_type": "execute_result"
    }
   ],
   "source": [
    "dataFrame.to_csv()"
   ]
  }
 ],
 "metadata": {
  "kernelspec": {
   "display_name": "Python 3",
   "language": "python",
   "name": "python3"
  },
  "language_info": {
   "codemirror_mode": {
    "name": "ipython",
    "version": 3
   },
   "file_extension": ".py",
   "mimetype": "text/x-python",
   "name": "python",
   "nbconvert_exporter": "python",
   "pygments_lexer": "ipython3",
   "version": "3.9.16"
  },
  "orig_nbformat": 4
 },
 "nbformat": 4,
 "nbformat_minor": 2
}
