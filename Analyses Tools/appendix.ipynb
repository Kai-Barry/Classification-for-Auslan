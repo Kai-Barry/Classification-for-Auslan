{
 "cells": [
  {
   "cell_type": "code",
   "execution_count": 5,
   "metadata": {},
   "outputs": [],
   "source": [
    "import numpy as np\n",
    "import pandas as pd"
   ]
  },
  {
   "cell_type": "markdown",
   "metadata": {},
   "source": [
    "# Print dataframes For Appendix"
   ]
  },
  {
   "cell_type": "code",
   "execution_count": 3,
   "metadata": {},
   "outputs": [],
   "source": [
    "experiment = 1\n",
    "experimentData = ['experiment1', 'experiment2', 'experiment3', 'experiment4', 'experiment5', 'experiment6', 'experiment7']\n",
    "folder = experimentData[experiment - 1]\n",
    "# Save Data\n",
    "X_train = np.loadtxt(folder + \"/X_train.npy\")\n",
    "X_test = np.loadtxt(folder + \"/X_test.npy\")\n",
    "y_train = np.loadtxt(folder + \"/y_train.npy\")\n",
    "y_test = np.loadtxt(folder + \"/y_test.npy\")"
   ]
  },
  {
   "cell_type": "code",
   "execution_count": 6,
   "metadata": {},
   "outputs": [
    {
     "name": "stdout",
     "output_type": "stream",
     "text": [
      "LinearDiscriminantAnalysis()\n",
      "LinearDiscriminantAnalysis(solver='lsqr')\n"
     ]
    },
    {
     "data": {
      "text/html": [
       "<div>\n",
       "<style scoped>\n",
       "    .dataframe tbody tr th:only-of-type {\n",
       "        vertical-align: middle;\n",
       "    }\n",
       "\n",
       "    .dataframe tbody tr th {\n",
       "        vertical-align: top;\n",
       "    }\n",
       "\n",
       "    .dataframe thead th {\n",
       "        text-align: right;\n",
       "    }\n",
       "</style>\n",
       "<table border=\"1\" class=\"dataframe\">\n",
       "  <thead>\n",
       "    <tr style=\"text-align: right;\">\n",
       "      <th></th>\n",
       "      <th>0</th>\n",
       "      <th>1</th>\n",
       "    </tr>\n",
       "  </thead>\n",
       "  <tbody>\n",
       "    <tr>\n",
       "      <th>0</th>\n",
       "      <td>98.6%</td>\n",
       "      <td>15.9%</td>\n",
       "    </tr>\n",
       "    <tr>\n",
       "      <th>1</th>\n",
       "      <td>3.3%</td>\n",
       "      <td>2.6%</td>\n",
       "    </tr>\n",
       "  </tbody>\n",
       "</table>\n",
       "</div>"
      ],
      "text/plain": [
       "       0      1\n",
       "0  98.6%  15.9%\n",
       "1   3.3%   2.6%"
      ]
     },
     "execution_count": 6,
     "metadata": {},
     "output_type": "execute_result"
    }
   ],
   "source": [
    "from sklearn.discriminant_analysis import LinearDiscriminantAnalysis\n",
    "# data to manipulate\n",
    "ldas = []\n",
    "values = []\n",
    "for solver in ['svd', 'lsqr']:\n",
    "    model = LinearDiscriminantAnalysis(solver=solver)\n",
    "    model.fit(X_train, y_train)\n",
    "    print(model)\n",
    "    model.fit(X_train, y_train)\n",
    "    values.append([\"{:.1f}%\".format(model.score(X_train, y_train)* 100), \"{:.1f}%\".format(model.score(X_test, y_test)* 100)])\n",
    "df = pd.DataFrame(values)\n",
    "df"
   ]
  },
  {
   "cell_type": "code",
   "execution_count": 7,
   "metadata": {},
   "outputs": [
    {
     "name": "stderr",
     "output_type": "stream",
     "text": [
      "c:\\Users\\KAI\\.conda\\envs\\ml\\lib\\site-packages\\sklearn\\discriminant_analysis.py:926: UserWarning: Variables are collinear\n",
      "  warnings.warn(\"Variables are collinear\")\n"
     ]
    },
    {
     "data": {
      "text/html": [
       "<div>\n",
       "<style scoped>\n",
       "    .dataframe tbody tr th:only-of-type {\n",
       "        vertical-align: middle;\n",
       "    }\n",
       "\n",
       "    .dataframe tbody tr th {\n",
       "        vertical-align: top;\n",
       "    }\n",
       "\n",
       "    .dataframe thead th {\n",
       "        text-align: right;\n",
       "    }\n",
       "</style>\n",
       "<table border=\"1\" class=\"dataframe\">\n",
       "  <thead>\n",
       "    <tr style=\"text-align: right;\">\n",
       "      <th></th>\n",
       "      <th>0</th>\n",
       "      <th>1</th>\n",
       "    </tr>\n",
       "  </thead>\n",
       "  <tbody>\n",
       "    <tr>\n",
       "      <th>0</th>\n",
       "      <td>100.0%</td>\n",
       "      <td>13.9%</td>\n",
       "    </tr>\n",
       "  </tbody>\n",
       "</table>\n",
       "</div>"
      ],
      "text/plain": [
       "        0      1\n",
       "0  100.0%  13.9%"
      ]
     },
     "execution_count": 7,
     "metadata": {},
     "output_type": "execute_result"
    }
   ],
   "source": [
    "from sklearn.discriminant_analysis import QuadraticDiscriminantAnalysis\n",
    "\n",
    "model = QuadraticDiscriminantAnalysis()\n",
    "model.fit(X_train, y_train)\n",
    "df = pd.DataFrame([[\"{:.1f}%\".format(model.score(X_train, y_train)* 100),\"{:.1f}%\".format(model.score(X_test, y_test)* 100)]])\n",
    "df"
   ]
  },
  {
   "cell_type": "code",
   "execution_count": 8,
   "metadata": {},
   "outputs": [
    {
     "data": {
      "text/html": [
       "<div>\n",
       "<style scoped>\n",
       "    .dataframe tbody tr th:only-of-type {\n",
       "        vertical-align: middle;\n",
       "    }\n",
       "\n",
       "    .dataframe tbody tr th {\n",
       "        vertical-align: top;\n",
       "    }\n",
       "\n",
       "    .dataframe thead th {\n",
       "        text-align: right;\n",
       "    }\n",
       "</style>\n",
       "<table border=\"1\" class=\"dataframe\">\n",
       "  <thead>\n",
       "    <tr style=\"text-align: right;\">\n",
       "      <th></th>\n",
       "      <th>0</th>\n",
       "      <th>1</th>\n",
       "    </tr>\n",
       "  </thead>\n",
       "  <tbody>\n",
       "    <tr>\n",
       "      <th>0</th>\n",
       "      <td>18.1%</td>\n",
       "      <td>14.5%</td>\n",
       "    </tr>\n",
       "  </tbody>\n",
       "</table>\n",
       "</div>"
      ],
      "text/plain": [
       "       0      1\n",
       "0  18.1%  14.5%"
      ]
     },
     "execution_count": 8,
     "metadata": {},
     "output_type": "execute_result"
    }
   ],
   "source": [
    "from sklearn.naive_bayes import GaussianNB\n",
    "\n",
    "model = GaussianNB()\n",
    "model.fit(X_train, y_train)\n",
    "df = pd.DataFrame([[\"{:.1f}%\".format(model.score(X_train, y_train)* 100),\"{:.1f}%\".format(model.score(X_test, y_test)* 100)]])\n",
    "df"
   ]
  },
  {
   "cell_type": "code",
   "execution_count": 9,
   "metadata": {},
   "outputs": [
    {
     "name": "stdout",
     "output_type": "stream",
     "text": [
      "KNeighborsClassifier(n_neighbors=1)\n",
      "KNeighborsClassifier(n_neighbors=1, weights='distance')\n",
      "KNeighborsClassifier()\n",
      "KNeighborsClassifier(weights='distance')\n",
      "KNeighborsClassifier(n_neighbors=10)\n",
      "KNeighborsClassifier(n_neighbors=10, weights='distance')\n",
      "KNeighborsClassifier(n_neighbors=15)\n",
      "KNeighborsClassifier(n_neighbors=15, weights='distance')\n",
      "KNeighborsClassifier(n_neighbors=20)\n",
      "KNeighborsClassifier(n_neighbors=20, weights='distance')\n",
      "KNeighborsClassifier(n_neighbors=25)\n",
      "KNeighborsClassifier(n_neighbors=25, weights='distance')\n",
      "KNeighborsClassifier(n_neighbors=30)\n",
      "KNeighborsClassifier(n_neighbors=30, weights='distance')\n"
     ]
    },
    {
     "data": {
      "text/html": [
       "<div>\n",
       "<style scoped>\n",
       "    .dataframe tbody tr th:only-of-type {\n",
       "        vertical-align: middle;\n",
       "    }\n",
       "\n",
       "    .dataframe tbody tr th {\n",
       "        vertical-align: top;\n",
       "    }\n",
       "\n",
       "    .dataframe thead th {\n",
       "        text-align: right;\n",
       "    }\n",
       "</style>\n",
       "<table border=\"1\" class=\"dataframe\">\n",
       "  <thead>\n",
       "    <tr style=\"text-align: right;\">\n",
       "      <th></th>\n",
       "      <th>0</th>\n",
       "      <th>1</th>\n",
       "      <th>2</th>\n",
       "      <th>3</th>\n",
       "    </tr>\n",
       "  </thead>\n",
       "  <tbody>\n",
       "    <tr>\n",
       "      <th>0</th>\n",
       "      <td>100.0%</td>\n",
       "      <td>21.2%</td>\n",
       "      <td>100.0%</td>\n",
       "      <td>21.2%</td>\n",
       "    </tr>\n",
       "    <tr>\n",
       "      <th>1</th>\n",
       "      <td>45.9%</td>\n",
       "      <td>19.4%</td>\n",
       "      <td>100.0%</td>\n",
       "      <td>20.9%</td>\n",
       "    </tr>\n",
       "    <tr>\n",
       "      <th>2</th>\n",
       "      <td>36.1%</td>\n",
       "      <td>20.0%</td>\n",
       "      <td>100.0%</td>\n",
       "      <td>21.5%</td>\n",
       "    </tr>\n",
       "    <tr>\n",
       "      <th>3</th>\n",
       "      <td>32.5%</td>\n",
       "      <td>21.0%</td>\n",
       "      <td>100.0%</td>\n",
       "      <td>21.0%</td>\n",
       "    </tr>\n",
       "    <tr>\n",
       "      <th>4</th>\n",
       "      <td>29.6%</td>\n",
       "      <td>21.4%</td>\n",
       "      <td>100.0%</td>\n",
       "      <td>21.8%</td>\n",
       "    </tr>\n",
       "    <tr>\n",
       "      <th>5</th>\n",
       "      <td>28.3%</td>\n",
       "      <td>21.4%</td>\n",
       "      <td>100.0%</td>\n",
       "      <td>21.3%</td>\n",
       "    </tr>\n",
       "    <tr>\n",
       "      <th>6</th>\n",
       "      <td>27.3%</td>\n",
       "      <td>21.0%</td>\n",
       "      <td>100.0%</td>\n",
       "      <td>21.9%</td>\n",
       "    </tr>\n",
       "  </tbody>\n",
       "</table>\n",
       "</div>"
      ],
      "text/plain": [
       "        0      1       2      3\n",
       "0  100.0%  21.2%  100.0%  21.2%\n",
       "1   45.9%  19.4%  100.0%  20.9%\n",
       "2   36.1%  20.0%  100.0%  21.5%\n",
       "3   32.5%  21.0%  100.0%  21.0%\n",
       "4   29.6%  21.4%  100.0%  21.8%\n",
       "5   28.3%  21.4%  100.0%  21.3%\n",
       "6   27.3%  21.0%  100.0%  21.9%"
      ]
     },
     "execution_count": 9,
     "metadata": {},
     "output_type": "execute_result"
    }
   ],
   "source": [
    "from sklearn.neighbors import KNeighborsClassifier\n",
    "bottom = 0\n",
    "top = 31\n",
    "step = 5\n",
    "values = []\n",
    "for i in range(bottom, top,step):\n",
    "    row = []\n",
    "    for weight in ['uniform', 'distance']:\n",
    "        if i == 0:\n",
    "            model = KNeighborsClassifier(n_neighbors=1, weights=weight)\n",
    "        else:\n",
    "            model = KNeighborsClassifier(n_neighbors=i, weights=weight)\n",
    "        model.fit(X_train, y_train)\n",
    "        print(model)\n",
    "        model.fit(X_train, y_train)\n",
    "        row.append(\"{:.1f}%\".format(model.score(X_train, y_train)* 100))\n",
    "        row.append(\"{:.1f}%\".format(model.score(X_test, y_test)* 100))\n",
    "    values.append(row)\n",
    "df = pd.DataFrame(values)\n",
    "df"
   ]
  },
  {
   "cell_type": "code",
   "execution_count": 10,
   "metadata": {},
   "outputs": [
    {
     "name": "stdout",
     "output_type": "stream",
     "text": [
      "DecisionTreeClassifier(max_depth=10, min_samples_split=10)\n",
      "DecisionTreeClassifier(max_depth=10, min_samples_split=10, splitter='random')\n",
      "DecisionTreeClassifier(criterion='entropy', max_depth=10, min_samples_split=10)\n",
      "DecisionTreeClassifier(criterion='entropy', max_depth=10, min_samples_split=10,\n",
      "                       splitter='random')\n",
      "DecisionTreeClassifier(criterion='log_loss', max_depth=10, min_samples_split=10)\n",
      "DecisionTreeClassifier(criterion='log_loss', max_depth=10, min_samples_split=10,\n",
      "                       splitter='random')\n"
     ]
    },
    {
     "data": {
      "text/html": [
       "<div>\n",
       "<style scoped>\n",
       "    .dataframe tbody tr th:only-of-type {\n",
       "        vertical-align: middle;\n",
       "    }\n",
       "\n",
       "    .dataframe tbody tr th {\n",
       "        vertical-align: top;\n",
       "    }\n",
       "\n",
       "    .dataframe thead th {\n",
       "        text-align: right;\n",
       "    }\n",
       "</style>\n",
       "<table border=\"1\" class=\"dataframe\">\n",
       "  <thead>\n",
       "    <tr style=\"text-align: right;\">\n",
       "      <th></th>\n",
       "      <th>0</th>\n",
       "      <th>1</th>\n",
       "    </tr>\n",
       "  </thead>\n",
       "  <tbody>\n",
       "    <tr>\n",
       "      <th>0</th>\n",
       "      <td>54.9%</td>\n",
       "      <td>20.4%</td>\n",
       "    </tr>\n",
       "    <tr>\n",
       "      <th>1</th>\n",
       "      <td>48.6%</td>\n",
       "      <td>23.0%</td>\n",
       "    </tr>\n",
       "    <tr>\n",
       "      <th>2</th>\n",
       "      <td>66.7%</td>\n",
       "      <td>20.3%</td>\n",
       "    </tr>\n",
       "    <tr>\n",
       "      <th>3</th>\n",
       "      <td>58.8%</td>\n",
       "      <td>19.9%</td>\n",
       "    </tr>\n",
       "    <tr>\n",
       "      <th>4</th>\n",
       "      <td>67.0%</td>\n",
       "      <td>19.1%</td>\n",
       "    </tr>\n",
       "    <tr>\n",
       "      <th>5</th>\n",
       "      <td>53.2%</td>\n",
       "      <td>22.6%</td>\n",
       "    </tr>\n",
       "  </tbody>\n",
       "</table>\n",
       "</div>"
      ],
      "text/plain": [
       "       0      1\n",
       "0  54.9%  20.4%\n",
       "1  48.6%  23.0%\n",
       "2  66.7%  20.3%\n",
       "3  58.8%  19.9%\n",
       "4  67.0%  19.1%\n",
       "5  53.2%  22.6%"
      ]
     },
     "execution_count": 10,
     "metadata": {},
     "output_type": "execute_result"
    }
   ],
   "source": [
    "from sklearn.tree import DecisionTreeClassifier\n",
    "values = []\n",
    "for criteria in [\"gini\", \"entropy\", \"log_loss\"]:\n",
    "    for splitter in [\"best\", \"random\"]:\n",
    "        model = DecisionTreeClassifier(criterion=criteria, splitter=splitter, max_depth=10, min_samples_split=10)\n",
    "        print(model)\n",
    "        model.fit(X_train, y_train)\n",
    "        values.append([\"{:.1f}%\".format(model.score(X_train, y_train)* 100), \"{:.1f}%\".format(model.score(X_test, y_test)* 100)])\n",
    "\n",
    "df = pd.DataFrame(values)\n",
    "df"
   ]
  },
  {
   "cell_type": "code",
   "execution_count": 11,
   "metadata": {},
   "outputs": [
    {
     "name": "stdout",
     "output_type": "stream",
     "text": [
      "RandomForestClassifier(max_depth=8, min_samples_split=10)\n",
      "RandomForestClassifier(criterion='entropy', max_depth=8, min_samples_split=10)\n",
      "RandomForestClassifier(criterion='log_loss', max_depth=8, min_samples_split=10)\n"
     ]
    },
    {
     "data": {
      "text/html": [
       "<div>\n",
       "<style scoped>\n",
       "    .dataframe tbody tr th:only-of-type {\n",
       "        vertical-align: middle;\n",
       "    }\n",
       "\n",
       "    .dataframe tbody tr th {\n",
       "        vertical-align: top;\n",
       "    }\n",
       "\n",
       "    .dataframe thead th {\n",
       "        text-align: right;\n",
       "    }\n",
       "</style>\n",
       "<table border=\"1\" class=\"dataframe\">\n",
       "  <thead>\n",
       "    <tr style=\"text-align: right;\">\n",
       "      <th></th>\n",
       "      <th>0</th>\n",
       "      <th>1</th>\n",
       "    </tr>\n",
       "  </thead>\n",
       "  <tbody>\n",
       "    <tr>\n",
       "      <th>0</th>\n",
       "      <td>67.6%</td>\n",
       "      <td>30.9%</td>\n",
       "    </tr>\n",
       "    <tr>\n",
       "      <th>1</th>\n",
       "      <td>80.7%</td>\n",
       "      <td>29.2%</td>\n",
       "    </tr>\n",
       "    <tr>\n",
       "      <th>2</th>\n",
       "      <td>82.4%</td>\n",
       "      <td>29.7%</td>\n",
       "    </tr>\n",
       "  </tbody>\n",
       "</table>\n",
       "</div>"
      ],
      "text/plain": [
       "       0      1\n",
       "0  67.6%  30.9%\n",
       "1  80.7%  29.2%\n",
       "2  82.4%  29.7%"
      ]
     },
     "execution_count": 11,
     "metadata": {},
     "output_type": "execute_result"
    }
   ],
   "source": [
    "from sklearn.ensemble import RandomForestClassifier\n",
    "values = []\n",
    "for criteria in [\"gini\", \"entropy\", \"log_loss\"]:\n",
    "    model = RandomForestClassifier(criterion=criteria, min_samples_split=10, max_depth=8)\n",
    "    print(model)\n",
    "    model.fit(X_train, y_train)\n",
    "    values.append([\"{:.1f}%\".format(model.score(X_train, y_train)* 100), \"{:.1f}%\".format(model.score(X_test, y_test)* 100)])\n",
    "\n",
    "df = pd.DataFrame(values)\n",
    "df"
   ]
  }
 ],
 "metadata": {
  "kernelspec": {
   "display_name": "ml",
   "language": "python",
   "name": "python3"
  },
  "language_info": {
   "codemirror_mode": {
    "name": "ipython",
    "version": 3
   },
   "file_extension": ".py",
   "mimetype": "text/x-python",
   "name": "python",
   "nbconvert_exporter": "python",
   "pygments_lexer": "ipython3",
   "version": "3.8.17"
  }
 },
 "nbformat": 4,
 "nbformat_minor": 2
}
