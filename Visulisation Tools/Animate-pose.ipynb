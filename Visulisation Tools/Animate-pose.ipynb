{
 "cells": [
  {
   "cell_type": "markdown",
   "metadata": {},
   "source": [
    "# Animate the coordinates\n",
    "\n",
    "### from https://matplotlib.org/2.1.2/gallery/animation/simple_3danim.html"
   ]
  },
  {
   "cell_type": "code",
   "execution_count": 1,
   "metadata": {},
   "outputs": [],
   "source": [
    "import mediapipe as mp\n",
    "import os\n",
    "import cv2\n",
    "import numpy as np"
   ]
  },
  {
   "cell_type": "code",
   "execution_count": 2,
   "metadata": {},
   "outputs": [],
   "source": [
    "import numpy as np\n",
    "from matplotlib import pyplot as plt\n",
    "from mpl_toolkits.mplot3d import Axes3D\n",
    "import matplotlib.animation\n",
    "import pandas as pd"
   ]
  },
  {
   "cell_type": "code",
   "execution_count": 11,
   "metadata": {},
   "outputs": [],
   "source": [
    "%matplotlib qt"
   ]
  },
  {
   "cell_type": "code",
   "execution_count": 4,
   "metadata": {},
   "outputs": [],
   "source": [
    "%matplotlib inline"
   ]
  },
  {
   "cell_type": "markdown",
   "metadata": {},
   "source": [
    "## Load in coordinates"
   ]
  },
  {
   "cell_type": "code",
   "execution_count": 5,
   "metadata": {},
   "outputs": [
    {
     "data": {
      "text/plain": [
       "150"
      ]
     },
     "execution_count": 5,
     "metadata": {},
     "output_type": "execute_result"
    }
   ],
   "source": [
    "X = []\n",
    "Y = []\n",
    "title = []\n",
    "coorDataLocation = \"D:/Thesis/ELAR-Data/imputedArrayData/\"\n",
    "dirData = os.listdir(coorDataLocation)\n",
    "for i, data in enumerate(dirData):\n",
    "    if i >= 300:\n",
    "        break\n",
    "    if i % 2:\n",
    "        continue\n",
    "    coorLoad = np.loadtxt(coorDataLocation + data)\n",
    "    coorShape= np.loadtxt(coorDataLocation + dirData[i + 1])\n",
    "    try:\n",
    "        coorLoad = coorLoad.reshape(coorLoad.shape[0], coorLoad.shape[1] // int(coorShape[2]), int(coorShape[2]))\n",
    "    except:\n",
    "        print(data, dirData[i + 1], coorLoad.shape, coorShape.shape)\n",
    "    X.append(coorLoad)\n",
    "    if len(X) > 500: # load in the first 500\n",
    "        break\n",
    "len(X)"
   ]
  },
  {
   "cell_type": "code",
   "execution_count": 6,
   "metadata": {},
   "outputs": [
    {
     "name": "stdout",
     "output_type": "stream",
     "text": [
      "ABOUT1_BFSA1c2a_1630_1990.npy ABOUT1_BFSA1c2a_1630_1990_shape.npy (99,) (3,)\n",
      "ABOUT2_STMB1c2a_4620_4790.npy ABOUT2_STMB1c2a_4620_4790_shape.npy (99,) (3,)\n",
      "AGAIN_AMMA1c2a_47284_47754.npy AGAIN_AMMA1c2a_47284_47754_shape.npy (99,) (3,)\n",
      "AGAIN_BCPA1c2a_107172_107542.npy AGAIN_BCPA1c2a_107172_107542_shape.npy (99,) (3,)\n",
      "AGAIN_BFSA1c2a_46360_46470.npy AGAIN_BFSA1c2a_46360_46470_shape.npy (99,) (3,)\n",
      "AGAIN_BFSA1c2a_47270_47880.npy AGAIN_BFSA1c2a_47270_47880_shape.npy (99,) (3,)\n"
     ]
    },
    {
     "data": {
      "text/plain": [
       "150"
      ]
     },
     "execution_count": 6,
     "metadata": {},
     "output_type": "execute_result"
    }
   ],
   "source": [
    "X1 = []\n",
    "Y2 = []\n",
    "title = []\n",
    "coorDataLocation = \"D:/Thesis/ELAR-Data/arrayData/\"\n",
    "dirData = os.listdir(coorDataLocation)\n",
    "for i, data in enumerate(dirData):\n",
    "    if i >= 300:\n",
    "        break\n",
    "    if i % 2:\n",
    "        continue\n",
    "    coorLoad = np.loadtxt(coorDataLocation + data)\n",
    "    coorShape= np.loadtxt(coorDataLocation + dirData[i + 1])\n",
    "    try:\n",
    "        coorLoad = coorLoad.reshape(coorLoad.shape[0], coorLoad.shape[1] // int(coorShape[2]), int(coorShape[2]))\n",
    "    except:\n",
    "        print(data, dirData[i + 1], coorLoad.shape, coorShape.shape)\n",
    "    X1.append(coorLoad)\n",
    "    if len(X1) > 500: # load in the first 500\n",
    "        break\n",
    "len(X1)"
   ]
  },
  {
   "cell_type": "code",
   "execution_count": 7,
   "metadata": {},
   "outputs": [],
   "source": [
    "# initialize Pose estimator\n",
    "mp_drawing = mp.solutions.drawing_utils\n",
    "mp_pose = mp.solutions.pose"
   ]
  },
  {
   "cell_type": "code",
   "execution_count": 8,
   "metadata": {},
   "outputs": [],
   "source": [
    "connections = set(mp_pose.POSE_CONNECTIONS)"
   ]
  },
  {
   "cell_type": "code",
   "execution_count": 9,
   "metadata": {},
   "outputs": [
    {
     "data": {
      "text/plain": [
       "array([[[-0.49034619, -0.84541142,  0.07579112],\n",
       "        [-0.49245054, -0.84720242,  0.08492021],\n",
       "        [-0.49166188, -0.84751672,  0.08489216],\n",
       "        ...,\n",
       "        [-0.34040645, -0.96576566, -0.20593622],\n",
       "        [-0.31932849, -0.96504647, -0.12280874],\n",
       "        [-0.32765117, -0.9579007 , -0.19086507]],\n",
       "\n",
       "       [[-0.48795697, -0.84656751,  0.07590313],\n",
       "        [-0.48982413, -0.84811618,  0.08446293],\n",
       "        [-0.48908075, -0.84833653,  0.08443748],\n",
       "        ...,\n",
       "        [-0.35111795, -0.9619557 , -0.20262788],\n",
       "        [-0.33083785, -0.96013017, -0.12196157],\n",
       "        [-0.33924192, -0.95435823, -0.18865051]],\n",
       "\n",
       "       [[-0.48556774, -0.84772359,  0.07601513],\n",
       "        [-0.48719772, -0.84902994,  0.08400565],\n",
       "        [-0.48649963, -0.84915635,  0.08398279],\n",
       "        ...,\n",
       "        [-0.36182946, -0.95814574, -0.19931953],\n",
       "        [-0.3423472 , -0.95521388, -0.1211144 ],\n",
       "        [-0.35083266, -0.95081576, -0.18643595]],\n",
       "\n",
       "       ...,\n",
       "\n",
       "       [[-0.53027165, -0.84091187,  0.17498885],\n",
       "        [-0.5374856 , -0.84383857,  0.17505451],\n",
       "        [-0.5374794 , -0.84681982,  0.17512298],\n",
       "        ...,\n",
       "        [-0.35298201, -0.90415585, -0.34567448],\n",
       "        [-0.33881652, -0.88359964, -0.25398153],\n",
       "        [-0.33665159, -0.87336385, -0.34178093]],\n",
       "\n",
       "       [[-0.53027165, -0.84091187,  0.17498885],\n",
       "        [-0.5374856 , -0.84383857,  0.17505451],\n",
       "        [-0.5374794 , -0.84681982,  0.17512298],\n",
       "        ...,\n",
       "        [-0.35298201, -0.90415585, -0.34567448],\n",
       "        [-0.33881652, -0.88359964, -0.25398153],\n",
       "        [-0.33665159, -0.87336385, -0.34178093]],\n",
       "\n",
       "       [[-0.53027165, -0.84091187,  0.17498885],\n",
       "        [-0.5374856 , -0.84383857,  0.17505451],\n",
       "        [-0.5374794 , -0.84681982,  0.17512298],\n",
       "        ...,\n",
       "        [-0.35298201, -0.90415585, -0.34567448],\n",
       "        [-0.33881652, -0.88359964, -0.25398153],\n",
       "        [-0.33665159, -0.87336385, -0.34178093]]])"
      ]
     },
     "execution_count": 9,
     "metadata": {},
     "output_type": "execute_result"
    }
   ],
   "source": [
    "X[0]"
   ]
  },
  {
   "cell_type": "code",
   "execution_count": 12,
   "metadata": {},
   "outputs": [
    {
     "name": "stderr",
     "output_type": "stream",
     "text": [
      "C:\\Users\\KAI\\.conda\\envs\\mp\\Lib\\site-packages\\matplotlib\\animation.py:884: UserWarning: Animation was deleted without rendering anything. This is most likely not intended. To prevent deletion, assign the Animation to a variable, e.g. `anim`, that exists until you output the Animation using `plt.show()` or `anim.save()`.\n",
      "  warnings.warn(\n"
     ]
    }
   ],
   "source": [
    "data = X[5]\n",
    "connect = connections\n",
    "\n",
    "def updateGraph(num):\n",
    "    x = data[num].T[0]\n",
    "    y = data[num].T[1]\n",
    "    z = data[num].T[2]\n",
    "    graph._offsets3d = (x, y, z)\n",
    "    title.set_text('3D Test, time={}'.format(num))\n",
    "    createLines(num)\n",
    "\n",
    "def createLines(num):\n",
    "    numPoints = data[0].shape[0]\n",
    "    for i, (p1, p2) in enumerate(connect):\n",
    "        line = lines[i]\n",
    "        if p1 >= numPoints or p2>= numPoints:\n",
    "            break\n",
    "        line.set_data([[data[num, p1, 0], data[num, p2, 0]], \n",
    "                      [data[num, p1, 1], data[num, p2, 1]]])\n",
    "        line.set_3d_properties([data[num, p1, 2], data[num, p2, 2]])\n",
    "    \n",
    "fig = plt.figure()\n",
    "ax = fig.add_subplot(111, projection='3d')\n",
    "title = ax.set_title('3D Test')\n",
    "ax.view_init(90, -90)\n",
    "\n",
    "x = data[0].T[0]\n",
    "y = data[0].T[1]\n",
    "z = data[0].T[2]\n",
    "graph = ax.scatter(x, y, z)\n",
    "lines = [ax.plot([], [], [])[0] for _ in connect]\n",
    "\n",
    "\n",
    "# dir(lines)\n",
    "ani = matplotlib.animation.FuncAnimation(fig, updateGraph, len(data), \n",
    "                               interval=100, blit=False)\n",
    "\n",
    "plt.show()"
   ]
  }
 ],
 "metadata": {
  "kernelspec": {
   "display_name": "Python 3 (ipykernel)",
   "language": "python",
   "name": "python3"
  },
  "language_info": {
   "codemirror_mode": {
    "name": "ipython",
    "version": 3
   },
   "file_extension": ".py",
   "mimetype": "text/x-python",
   "name": "python",
   "nbconvert_exporter": "python",
   "pygments_lexer": "ipython3",
   "version": "3.11.5"
  }
 },
 "nbformat": 4,
 "nbformat_minor": 4
}
